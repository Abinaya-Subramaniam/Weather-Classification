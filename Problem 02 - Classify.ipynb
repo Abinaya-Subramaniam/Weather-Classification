{
 "cells": [
  {
   "cell_type": "code",
   "execution_count": 2,
   "id": "41bbbb6d",
   "metadata": {},
   "outputs": [],
   "source": [
    "import pandas as pd\n",
    "import numpy as np\n",
    "from sklearn.model_selection import train_test_split\n",
    "from sklearn.preprocessing import StandardScaler, LabelEncoder\n",
    "from sklearn.ensemble import RandomForestClassifier\n",
    "from sklearn.metrics import accuracy_score\n",
    "import matplotlib.pyplot as plt\n",
    "import seaborn as sns"
   ]
  },
  {
   "cell_type": "code",
   "execution_count": 3,
   "id": "4b2790df",
   "metadata": {},
   "outputs": [],
   "source": [
    "data = pd.read_csv(\"./daily_data.csv\")"
   ]
  },
  {
   "cell_type": "code",
   "execution_count": 4,
   "id": "2af5e2e4",
   "metadata": {},
   "outputs": [
    {
     "data": {
      "text/html": [
       "<div>\n",
       "<style scoped>\n",
       "    .dataframe tbody tr th:only-of-type {\n",
       "        vertical-align: middle;\n",
       "    }\n",
       "\n",
       "    .dataframe tbody tr th {\n",
       "        vertical-align: top;\n",
       "    }\n",
       "\n",
       "    .dataframe thead th {\n",
       "        text-align: right;\n",
       "    }\n",
       "</style>\n",
       "<table border=\"1\" class=\"dataframe\">\n",
       "  <thead>\n",
       "    <tr style=\"text-align: right;\">\n",
       "      <th></th>\n",
       "      <th>day_id</th>\n",
       "      <th>city_id</th>\n",
       "      <th>temperature_celsius</th>\n",
       "      <th>condition_text</th>\n",
       "      <th>wind_kph</th>\n",
       "      <th>wind_degree</th>\n",
       "      <th>pressure_mb</th>\n",
       "      <th>precip_mm</th>\n",
       "      <th>humidity</th>\n",
       "      <th>cloud</th>\n",
       "      <th>feels_like_celsius</th>\n",
       "      <th>visibility_km</th>\n",
       "      <th>uv_index</th>\n",
       "      <th>gust_kph</th>\n",
       "      <th>air_quality_us-epa-index</th>\n",
       "      <th>sunrise</th>\n",
       "      <th>sunset</th>\n",
       "    </tr>\n",
       "  </thead>\n",
       "  <tbody>\n",
       "    <tr>\n",
       "      <th>0</th>\n",
       "      <td>D0001</td>\n",
       "      <td>C001</td>\n",
       "      <td>27.0</td>\n",
       "      <td>NaN</td>\n",
       "      <td>6.1</td>\n",
       "      <td>210</td>\n",
       "      <td>1006.0</td>\n",
       "      <td>0.0</td>\n",
       "      <td>54</td>\n",
       "      <td>75</td>\n",
       "      <td>28.0</td>\n",
       "      <td>10.0</td>\n",
       "      <td>6.0</td>\n",
       "      <td>11.9</td>\n",
       "      <td>2</td>\n",
       "      <td>06:04 AM</td>\n",
       "      <td>07:19 PM</td>\n",
       "    </tr>\n",
       "    <tr>\n",
       "      <th>1</th>\n",
       "      <td>D0002</td>\n",
       "      <td>C001</td>\n",
       "      <td>22.0</td>\n",
       "      <td>NaN</td>\n",
       "      <td>6.1</td>\n",
       "      <td>170</td>\n",
       "      <td>1006.0</td>\n",
       "      <td>0.0</td>\n",
       "      <td>73</td>\n",
       "      <td>75</td>\n",
       "      <td>24.5</td>\n",
       "      <td>10.0</td>\n",
       "      <td>1.0</td>\n",
       "      <td>23.4</td>\n",
       "      <td>1</td>\n",
       "      <td>06:05 AM</td>\n",
       "      <td>07:18 PM</td>\n",
       "    </tr>\n",
       "    <tr>\n",
       "      <th>2</th>\n",
       "      <td>D0003</td>\n",
       "      <td>C001</td>\n",
       "      <td>20.0</td>\n",
       "      <td>Light Rain with Thunder</td>\n",
       "      <td>3.6</td>\n",
       "      <td>10</td>\n",
       "      <td>1011.0</td>\n",
       "      <td>4.5</td>\n",
       "      <td>100</td>\n",
       "      <td>75</td>\n",
       "      <td>20.0</td>\n",
       "      <td>10.0</td>\n",
       "      <td>1.0</td>\n",
       "      <td>12.6</td>\n",
       "      <td>1</td>\n",
       "      <td>06:05 AM</td>\n",
       "      <td>07:18 PM</td>\n",
       "    </tr>\n",
       "    <tr>\n",
       "      <th>3</th>\n",
       "      <td>D0004</td>\n",
       "      <td>C001</td>\n",
       "      <td>17.0</td>\n",
       "      <td>Clear and Sunny</td>\n",
       "      <td>6.1</td>\n",
       "      <td>150</td>\n",
       "      <td>1018.0</td>\n",
       "      <td>0.0</td>\n",
       "      <td>88</td>\n",
       "      <td>0</td>\n",
       "      <td>17.0</td>\n",
       "      <td>10.0</td>\n",
       "      <td>1.0</td>\n",
       "      <td>11.2</td>\n",
       "      <td>1</td>\n",
       "      <td>06:06 AM</td>\n",
       "      <td>07:16 PM</td>\n",
       "    </tr>\n",
       "    <tr>\n",
       "      <th>4</th>\n",
       "      <td>D0005</td>\n",
       "      <td>C001</td>\n",
       "      <td>18.0</td>\n",
       "      <td>NaN</td>\n",
       "      <td>3.6</td>\n",
       "      <td>92</td>\n",
       "      <td>1019.0</td>\n",
       "      <td>0.0</td>\n",
       "      <td>94</td>\n",
       "      <td>0</td>\n",
       "      <td>18.0</td>\n",
       "      <td>10.0</td>\n",
       "      <td>1.0</td>\n",
       "      <td>9.0</td>\n",
       "      <td>1</td>\n",
       "      <td>06:07 AM</td>\n",
       "      <td>07:15 PM</td>\n",
       "    </tr>\n",
       "  </tbody>\n",
       "</table>\n",
       "</div>"
      ],
      "text/plain": [
       "  day_id city_id  temperature_celsius           condition_text  wind_kph  \\\n",
       "0  D0001    C001                 27.0                      NaN       6.1   \n",
       "1  D0002    C001                 22.0                      NaN       6.1   \n",
       "2  D0003    C001                 20.0  Light Rain with Thunder       3.6   \n",
       "3  D0004    C001                 17.0          Clear and Sunny       6.1   \n",
       "4  D0005    C001                 18.0                      NaN       3.6   \n",
       "\n",
       "   wind_degree  pressure_mb  precip_mm  humidity  cloud  feels_like_celsius  \\\n",
       "0          210       1006.0        0.0        54     75                28.0   \n",
       "1          170       1006.0        0.0        73     75                24.5   \n",
       "2           10       1011.0        4.5       100     75                20.0   \n",
       "3          150       1018.0        0.0        88      0                17.0   \n",
       "4           92       1019.0        0.0        94      0                18.0   \n",
       "\n",
       "   visibility_km  uv_index  gust_kph  air_quality_us-epa-index   sunrise  \\\n",
       "0           10.0       6.0      11.9                         2  06:04 AM   \n",
       "1           10.0       1.0      23.4                         1  06:05 AM   \n",
       "2           10.0       1.0      12.6                         1  06:05 AM   \n",
       "3           10.0       1.0      11.2                         1  06:06 AM   \n",
       "4           10.0       1.0       9.0                         1  06:07 AM   \n",
       "\n",
       "     sunset  \n",
       "0  07:19 PM  \n",
       "1  07:18 PM  \n",
       "2  07:18 PM  \n",
       "3  07:16 PM  \n",
       "4  07:15 PM  "
      ]
     },
     "execution_count": 4,
     "metadata": {},
     "output_type": "execute_result"
    }
   ],
   "source": [
    "data.head()"
   ]
  },
  {
   "cell_type": "code",
   "execution_count": 5,
   "id": "59098397",
   "metadata": {},
   "outputs": [
    {
     "name": "stdout",
     "output_type": "stream",
     "text": [
      "<class 'pandas.core.frame.DataFrame'>\n",
      "RangeIndex: 2893 entries, 0 to 2892\n",
      "Data columns (total 17 columns):\n",
      " #   Column                    Non-Null Count  Dtype  \n",
      "---  ------                    --------------  -----  \n",
      " 0   day_id                    2893 non-null   object \n",
      " 1   city_id                   2893 non-null   object \n",
      " 2   temperature_celsius       2893 non-null   float64\n",
      " 3   condition_text            479 non-null    object \n",
      " 4   wind_kph                  2893 non-null   float64\n",
      " 5   wind_degree               2893 non-null   int64  \n",
      " 6   pressure_mb               2893 non-null   float64\n",
      " 7   precip_mm                 2893 non-null   float64\n",
      " 8   humidity                  2893 non-null   int64  \n",
      " 9   cloud                     2893 non-null   int64  \n",
      " 10  feels_like_celsius        2893 non-null   float64\n",
      " 11  visibility_km             2893 non-null   float64\n",
      " 12  uv_index                  2893 non-null   float64\n",
      " 13  gust_kph                  2893 non-null   float64\n",
      " 14  air_quality_us-epa-index  2893 non-null   int64  \n",
      " 15  sunrise                   2893 non-null   object \n",
      " 16  sunset                    2893 non-null   object \n",
      "dtypes: float64(8), int64(4), object(5)\n",
      "memory usage: 384.4+ KB\n"
     ]
    }
   ],
   "source": [
    "data.info()"
   ]
  },
  {
   "cell_type": "code",
   "execution_count": 6,
   "id": "b053a545",
   "metadata": {},
   "outputs": [
    {
     "data": {
      "text/html": [
       "<div>\n",
       "<style scoped>\n",
       "    .dataframe tbody tr th:only-of-type {\n",
       "        vertical-align: middle;\n",
       "    }\n",
       "\n",
       "    .dataframe tbody tr th {\n",
       "        vertical-align: top;\n",
       "    }\n",
       "\n",
       "    .dataframe thead th {\n",
       "        text-align: right;\n",
       "    }\n",
       "</style>\n",
       "<table border=\"1\" class=\"dataframe\">\n",
       "  <thead>\n",
       "    <tr style=\"text-align: right;\">\n",
       "      <th></th>\n",
       "      <th>temperature_celsius</th>\n",
       "      <th>wind_kph</th>\n",
       "      <th>wind_degree</th>\n",
       "      <th>pressure_mb</th>\n",
       "      <th>precip_mm</th>\n",
       "      <th>humidity</th>\n",
       "      <th>cloud</th>\n",
       "      <th>feels_like_celsius</th>\n",
       "      <th>visibility_km</th>\n",
       "      <th>uv_index</th>\n",
       "      <th>gust_kph</th>\n",
       "      <th>air_quality_us-epa-index</th>\n",
       "    </tr>\n",
       "  </thead>\n",
       "  <tbody>\n",
       "    <tr>\n",
       "      <th>count</th>\n",
       "      <td>2893.000000</td>\n",
       "      <td>2893.000000</td>\n",
       "      <td>2893.000000</td>\n",
       "      <td>2893.000000</td>\n",
       "      <td>2893.000000</td>\n",
       "      <td>2893.000000</td>\n",
       "      <td>2893.000000</td>\n",
       "      <td>2893.000000</td>\n",
       "      <td>2893.000000</td>\n",
       "      <td>2893.000000</td>\n",
       "      <td>2893.000000</td>\n",
       "      <td>2893.000000</td>\n",
       "    </tr>\n",
       "    <tr>\n",
       "      <th>mean</th>\n",
       "      <td>22.024577</td>\n",
       "      <td>10.304805</td>\n",
       "      <td>158.994469</td>\n",
       "      <td>1013.745938</td>\n",
       "      <td>0.165299</td>\n",
       "      <td>74.773591</td>\n",
       "      <td>32.073280</td>\n",
       "      <td>23.725752</td>\n",
       "      <td>9.745524</td>\n",
       "      <td>2.216730</td>\n",
       "      <td>16.930522</td>\n",
       "      <td>1.599032</td>\n",
       "    </tr>\n",
       "    <tr>\n",
       "      <th>std</th>\n",
       "      <td>6.615540</td>\n",
       "      <td>7.264472</td>\n",
       "      <td>103.021634</td>\n",
       "      <td>6.172045</td>\n",
       "      <td>0.937061</td>\n",
       "      <td>19.335724</td>\n",
       "      <td>32.584184</td>\n",
       "      <td>8.877424</td>\n",
       "      <td>2.489918</td>\n",
       "      <td>2.238163</td>\n",
       "      <td>10.541449</td>\n",
       "      <td>1.062513</td>\n",
       "    </tr>\n",
       "    <tr>\n",
       "      <th>min</th>\n",
       "      <td>-2.000000</td>\n",
       "      <td>3.600000</td>\n",
       "      <td>1.000000</td>\n",
       "      <td>982.000000</td>\n",
       "      <td>0.000000</td>\n",
       "      <td>4.000000</td>\n",
       "      <td>0.000000</td>\n",
       "      <td>-4.300000</td>\n",
       "      <td>0.000000</td>\n",
       "      <td>1.000000</td>\n",
       "      <td>0.700000</td>\n",
       "      <td>1.000000</td>\n",
       "    </tr>\n",
       "    <tr>\n",
       "      <th>25%</th>\n",
       "      <td>17.000000</td>\n",
       "      <td>5.000000</td>\n",
       "      <td>70.000000</td>\n",
       "      <td>1010.000000</td>\n",
       "      <td>0.000000</td>\n",
       "      <td>66.000000</td>\n",
       "      <td>0.000000</td>\n",
       "      <td>17.000000</td>\n",
       "      <td>10.000000</td>\n",
       "      <td>1.000000</td>\n",
       "      <td>9.000000</td>\n",
       "      <td>1.000000</td>\n",
       "    </tr>\n",
       "    <tr>\n",
       "      <th>50%</th>\n",
       "      <td>22.000000</td>\n",
       "      <td>8.300000</td>\n",
       "      <td>150.000000</td>\n",
       "      <td>1014.000000</td>\n",
       "      <td>0.000000</td>\n",
       "      <td>78.000000</td>\n",
       "      <td>25.000000</td>\n",
       "      <td>24.500000</td>\n",
       "      <td>10.000000</td>\n",
       "      <td>1.000000</td>\n",
       "      <td>15.100000</td>\n",
       "      <td>1.000000</td>\n",
       "    </tr>\n",
       "    <tr>\n",
       "      <th>75%</th>\n",
       "      <td>27.000000</td>\n",
       "      <td>13.000000</td>\n",
       "      <td>236.000000</td>\n",
       "      <td>1018.000000</td>\n",
       "      <td>0.000000</td>\n",
       "      <td>89.000000</td>\n",
       "      <td>68.000000</td>\n",
       "      <td>30.000000</td>\n",
       "      <td>10.000000</td>\n",
       "      <td>1.000000</td>\n",
       "      <td>22.300000</td>\n",
       "      <td>2.000000</td>\n",
       "    </tr>\n",
       "    <tr>\n",
       "      <th>max</th>\n",
       "      <td>45.000000</td>\n",
       "      <td>74.200000</td>\n",
       "      <td>360.000000</td>\n",
       "      <td>1036.000000</td>\n",
       "      <td>28.700000</td>\n",
       "      <td>100.000000</td>\n",
       "      <td>100.000000</td>\n",
       "      <td>73.600000</td>\n",
       "      <td>32.000000</td>\n",
       "      <td>10.000000</td>\n",
       "      <td>75.600000</td>\n",
       "      <td>6.000000</td>\n",
       "    </tr>\n",
       "  </tbody>\n",
       "</table>\n",
       "</div>"
      ],
      "text/plain": [
       "       temperature_celsius     wind_kph  wind_degree  pressure_mb  \\\n",
       "count          2893.000000  2893.000000  2893.000000  2893.000000   \n",
       "mean             22.024577    10.304805   158.994469  1013.745938   \n",
       "std               6.615540     7.264472   103.021634     6.172045   \n",
       "min              -2.000000     3.600000     1.000000   982.000000   \n",
       "25%              17.000000     5.000000    70.000000  1010.000000   \n",
       "50%              22.000000     8.300000   150.000000  1014.000000   \n",
       "75%              27.000000    13.000000   236.000000  1018.000000   \n",
       "max              45.000000    74.200000   360.000000  1036.000000   \n",
       "\n",
       "         precip_mm     humidity        cloud  feels_like_celsius  \\\n",
       "count  2893.000000  2893.000000  2893.000000         2893.000000   \n",
       "mean      0.165299    74.773591    32.073280           23.725752   \n",
       "std       0.937061    19.335724    32.584184            8.877424   \n",
       "min       0.000000     4.000000     0.000000           -4.300000   \n",
       "25%       0.000000    66.000000     0.000000           17.000000   \n",
       "50%       0.000000    78.000000    25.000000           24.500000   \n",
       "75%       0.000000    89.000000    68.000000           30.000000   \n",
       "max      28.700000   100.000000   100.000000           73.600000   \n",
       "\n",
       "       visibility_km     uv_index     gust_kph  air_quality_us-epa-index  \n",
       "count    2893.000000  2893.000000  2893.000000               2893.000000  \n",
       "mean        9.745524     2.216730    16.930522                  1.599032  \n",
       "std         2.489918     2.238163    10.541449                  1.062513  \n",
       "min         0.000000     1.000000     0.700000                  1.000000  \n",
       "25%        10.000000     1.000000     9.000000                  1.000000  \n",
       "50%        10.000000     1.000000    15.100000                  1.000000  \n",
       "75%        10.000000     1.000000    22.300000                  2.000000  \n",
       "max        32.000000    10.000000    75.600000                  6.000000  "
      ]
     },
     "execution_count": 6,
     "metadata": {},
     "output_type": "execute_result"
    }
   ],
   "source": [
    "data.describe()"
   ]
  },
  {
   "cell_type": "code",
   "execution_count": 7,
   "id": "06b9fa87",
   "metadata": {},
   "outputs": [
    {
     "data": {
      "text/plain": [
       "day_id                       object\n",
       "city_id                      object\n",
       "temperature_celsius         float64\n",
       "condition_text               object\n",
       "wind_kph                    float64\n",
       "wind_degree                   int64\n",
       "pressure_mb                 float64\n",
       "precip_mm                   float64\n",
       "humidity                      int64\n",
       "cloud                         int64\n",
       "feels_like_celsius          float64\n",
       "visibility_km               float64\n",
       "uv_index                    float64\n",
       "gust_kph                    float64\n",
       "air_quality_us-epa-index      int64\n",
       "sunrise                      object\n",
       "sunset                       object\n",
       "dtype: object"
      ]
     },
     "execution_count": 7,
     "metadata": {},
     "output_type": "execute_result"
    }
   ],
   "source": [
    "data.dtypes"
   ]
  },
  {
   "cell_type": "code",
   "execution_count": 8,
   "id": "1114e2a5",
   "metadata": {},
   "outputs": [
    {
     "data": {
      "text/plain": [
       "day_id                         0\n",
       "city_id                        0\n",
       "temperature_celsius            0\n",
       "condition_text              2414\n",
       "wind_kph                       0\n",
       "wind_degree                    0\n",
       "pressure_mb                    0\n",
       "precip_mm                      0\n",
       "humidity                       0\n",
       "cloud                          0\n",
       "feels_like_celsius             0\n",
       "visibility_km                  0\n",
       "uv_index                       0\n",
       "gust_kph                       0\n",
       "air_quality_us-epa-index       0\n",
       "sunrise                        0\n",
       "sunset                         0\n",
       "dtype: int64"
      ]
     },
     "execution_count": 8,
     "metadata": {},
     "output_type": "execute_result"
    }
   ],
   "source": [
    "data.isnull().sum()"
   ]
  },
  {
   "cell_type": "code",
   "execution_count": 9,
   "id": "d4b0e265",
   "metadata": {},
   "outputs": [
    {
     "data": {
      "text/plain": [
       "Clear and Sunny            122\n",
       "Partly Cloudy              122\n",
       "Light Precipitation         68\n",
       "Cloudy and Overcast         53\n",
       "Mist or Fog                 50\n",
       "Rain Showers                21\n",
       "Light Rain with Thunder     16\n",
       "Thunderstorms               15\n",
       "Moderate to Heavy Rain      12\n",
       "Name: condition_text, dtype: int64"
      ]
     },
     "execution_count": 9,
     "metadata": {},
     "output_type": "execute_result"
    }
   ],
   "source": [
    "data['condition_text'].value_counts()"
   ]
  },
  {
   "cell_type": "code",
   "execution_count": 10,
   "id": "da6cc2f2",
   "metadata": {},
   "outputs": [],
   "source": [
    "data = data.dropna(subset=['condition_text'])"
   ]
  },
  {
   "cell_type": "code",
   "execution_count": 11,
   "id": "240ae036",
   "metadata": {},
   "outputs": [],
   "source": [
    "label_encoder = LabelEncoder()\n",
    "data['condition_text_encoded'] = label_encoder.fit_transform(data['condition_text'])"
   ]
  },
  {
   "cell_type": "code",
   "execution_count": 12,
   "id": "039f4c52",
   "metadata": {},
   "outputs": [],
   "source": [
    "data['sunrise'] = pd.to_datetime(data['sunrise'], format='%I:%M %p').dt.hour\n",
    "data['sunset'] = pd.to_datetime(data['sunset'], format='%I:%M %p').dt.hour\n"
   ]
  },
  {
   "cell_type": "code",
   "execution_count": 13,
   "id": "752afe0c",
   "metadata": {},
   "outputs": [],
   "source": [
    "features = ['temperature_celsius', 'wind_kph', 'wind_degree', 'pressure_mb', 'precip_mm', \n",
    "            'humidity', 'cloud', 'feels_like_celsius', 'visibility_km', 'uv_index', \n",
    "            'gust_kph', 'air_quality_us-epa-index', 'sunrise', 'sunset']\n",
    "X = data[features]\n",
    "y = data['condition_text_encoded']"
   ]
  },
  {
   "cell_type": "code",
   "execution_count": 14,
   "id": "7e0cb6f8",
   "metadata": {},
   "outputs": [],
   "source": [
    "X_train, X_test, y_train, y_test = train_test_split(X, y, test_size=0.2, random_state=42)\n"
   ]
  },
  {
   "cell_type": "code",
   "execution_count": 15,
   "id": "99420291",
   "metadata": {},
   "outputs": [],
   "source": [
    "scaler = StandardScaler()\n",
    "X_train_scaled = scaler.fit_transform(X_train)\n",
    "X_test_scaled = scaler.transform(X_test)"
   ]
  },
  {
   "cell_type": "code",
   "execution_count": 16,
   "id": "5163f8bd",
   "metadata": {},
   "outputs": [
    {
     "data": {
      "text/html": [
       "<style>#sk-container-id-1 {color: black;background-color: white;}#sk-container-id-1 pre{padding: 0;}#sk-container-id-1 div.sk-toggleable {background-color: white;}#sk-container-id-1 label.sk-toggleable__label {cursor: pointer;display: block;width: 100%;margin-bottom: 0;padding: 0.3em;box-sizing: border-box;text-align: center;}#sk-container-id-1 label.sk-toggleable__label-arrow:before {content: \"▸\";float: left;margin-right: 0.25em;color: #696969;}#sk-container-id-1 label.sk-toggleable__label-arrow:hover:before {color: black;}#sk-container-id-1 div.sk-estimator:hover label.sk-toggleable__label-arrow:before {color: black;}#sk-container-id-1 div.sk-toggleable__content {max-height: 0;max-width: 0;overflow: hidden;text-align: left;background-color: #f0f8ff;}#sk-container-id-1 div.sk-toggleable__content pre {margin: 0.2em;color: black;border-radius: 0.25em;background-color: #f0f8ff;}#sk-container-id-1 input.sk-toggleable__control:checked~div.sk-toggleable__content {max-height: 200px;max-width: 100%;overflow: auto;}#sk-container-id-1 input.sk-toggleable__control:checked~label.sk-toggleable__label-arrow:before {content: \"▾\";}#sk-container-id-1 div.sk-estimator input.sk-toggleable__control:checked~label.sk-toggleable__label {background-color: #d4ebff;}#sk-container-id-1 div.sk-label input.sk-toggleable__control:checked~label.sk-toggleable__label {background-color: #d4ebff;}#sk-container-id-1 input.sk-hidden--visually {border: 0;clip: rect(1px 1px 1px 1px);clip: rect(1px, 1px, 1px, 1px);height: 1px;margin: -1px;overflow: hidden;padding: 0;position: absolute;width: 1px;}#sk-container-id-1 div.sk-estimator {font-family: monospace;background-color: #f0f8ff;border: 1px dotted black;border-radius: 0.25em;box-sizing: border-box;margin-bottom: 0.5em;}#sk-container-id-1 div.sk-estimator:hover {background-color: #d4ebff;}#sk-container-id-1 div.sk-parallel-item::after {content: \"\";width: 100%;border-bottom: 1px solid gray;flex-grow: 1;}#sk-container-id-1 div.sk-label:hover label.sk-toggleable__label {background-color: #d4ebff;}#sk-container-id-1 div.sk-serial::before {content: \"\";position: absolute;border-left: 1px solid gray;box-sizing: border-box;top: 0;bottom: 0;left: 50%;z-index: 0;}#sk-container-id-1 div.sk-serial {display: flex;flex-direction: column;align-items: center;background-color: white;padding-right: 0.2em;padding-left: 0.2em;position: relative;}#sk-container-id-1 div.sk-item {position: relative;z-index: 1;}#sk-container-id-1 div.sk-parallel {display: flex;align-items: stretch;justify-content: center;background-color: white;position: relative;}#sk-container-id-1 div.sk-item::before, #sk-container-id-1 div.sk-parallel-item::before {content: \"\";position: absolute;border-left: 1px solid gray;box-sizing: border-box;top: 0;bottom: 0;left: 50%;z-index: -1;}#sk-container-id-1 div.sk-parallel-item {display: flex;flex-direction: column;z-index: 1;position: relative;background-color: white;}#sk-container-id-1 div.sk-parallel-item:first-child::after {align-self: flex-end;width: 50%;}#sk-container-id-1 div.sk-parallel-item:last-child::after {align-self: flex-start;width: 50%;}#sk-container-id-1 div.sk-parallel-item:only-child::after {width: 0;}#sk-container-id-1 div.sk-dashed-wrapped {border: 1px dashed gray;margin: 0 0.4em 0.5em 0.4em;box-sizing: border-box;padding-bottom: 0.4em;background-color: white;}#sk-container-id-1 div.sk-label label {font-family: monospace;font-weight: bold;display: inline-block;line-height: 1.2em;}#sk-container-id-1 div.sk-label-container {text-align: center;}#sk-container-id-1 div.sk-container {/* jupyter's `normalize.less` sets `[hidden] { display: none; }` but bootstrap.min.css set `[hidden] { display: none !important; }` so we also need the `!important` here to be able to override the default hidden behavior on the sphinx rendered scikit-learn.org. See: https://github.com/scikit-learn/scikit-learn/issues/21755 */display: inline-block !important;position: relative;}#sk-container-id-1 div.sk-text-repr-fallback {display: none;}</style><div id=\"sk-container-id-1\" class=\"sk-top-container\"><div class=\"sk-text-repr-fallback\"><pre>RandomForestClassifier(random_state=42)</pre><b>In a Jupyter environment, please rerun this cell to show the HTML representation or trust the notebook. <br />On GitHub, the HTML representation is unable to render, please try loading this page with nbviewer.org.</b></div><div class=\"sk-container\" hidden><div class=\"sk-item\"><div class=\"sk-estimator sk-toggleable\"><input class=\"sk-toggleable__control sk-hidden--visually\" id=\"sk-estimator-id-1\" type=\"checkbox\" checked><label for=\"sk-estimator-id-1\" class=\"sk-toggleable__label sk-toggleable__label-arrow\">RandomForestClassifier</label><div class=\"sk-toggleable__content\"><pre>RandomForestClassifier(random_state=42)</pre></div></div></div></div></div>"
      ],
      "text/plain": [
       "RandomForestClassifier(random_state=42)"
      ]
     },
     "execution_count": 16,
     "metadata": {},
     "output_type": "execute_result"
    }
   ],
   "source": [
    "model = RandomForestClassifier(n_estimators=100, random_state=42)\n",
    "model.fit(X_train_scaled, y_train)"
   ]
  },
  {
   "cell_type": "code",
   "execution_count": 17,
   "id": "4bc83aab",
   "metadata": {},
   "outputs": [],
   "source": [
    "y_pred = model.predict(X_test_scaled)\n"
   ]
  },
  {
   "cell_type": "code",
   "execution_count": 18,
   "id": "39384da2",
   "metadata": {},
   "outputs": [
    {
     "name": "stdout",
     "output_type": "stream",
     "text": [
      "Accuracy: 71.88%\n"
     ]
    }
   ],
   "source": [
    "accuracy = accuracy_score(y_test, y_pred)\n",
    "print(f'Accuracy: {accuracy * 100:.2f}%')"
   ]
  },
  {
   "cell_type": "code",
   "execution_count": 19,
   "id": "ce3f1072",
   "metadata": {},
   "outputs": [
    {
     "data": {
      "image/png": "[encoded data removed]",
      "text/plain": [
       "<Figure size 1000x600 with 1 Axes>"
      ]
     },
     "metadata": {},
     "output_type": "display_data"
    }
   ],
   "source": [
    "feature_importances = model.feature_importances_\n",
    "feature_importance_df = pd.DataFrame({\n",
    "    'Feature': features,\n",
    "    'Importance': feature_importances\n",
    "}).sort_values(by='Importance', ascending=False)\n",
    "\n",
    "plt.figure(figsize=(10, 6))\n",
    "sns.barplot(x='Importance', y='Feature', data=feature_importance_df)\n",
    "plt.title('Feature Importance')\n",
    "plt.show()"
   ]
  },
  {
   "cell_type": "code",
   "execution_count": 21,
   "id": "be415ad5",
   "metadata": {},
   "outputs": [],
   "source": [
    "submission = pd.DataFrame({\n",
    "    'day_id': data['day_id'],\n",
    "    'condition_text': label_encoder.inverse_transform(model.predict(scaler.transform(X)))\n",
    "})\n"
   ]
  },
  {
   "cell_type": "code",
   "execution_count": 23,
   "id": "906f24b6",
   "metadata": {},
   "outputs": [],
   "source": [
    "submission.to_csv('submission.csv', index=False)"
   ]
  },
  {
   "cell_type": "code",
   "execution_count": null,
   "id": "da57be1f",
   "metadata": {},
   "outputs": [],
   "source": []
  },
  {
   "cell_type": "code",
   "execution_count": null,
   "id": "8b1cea61",
   "metadata": {},
   "outputs": [],
   "source": []
  }
 ],
 "metadata": {
  "kernelspec": {
   "display_name": "Python 3 (ipykernel)",
   "language": "python",
   "name": "python3"
  },
  "language_info": {
   "codemirror_mode": {
    "name": "ipython",
    "version": 3
   },
   "file_extension": ".py",
   "mimetype": "text/x-python",
   "name": "python",
   "nbconvert_exporter": "python",
   "pygments_lexer": "ipython3",
   "version": "3.10.9"
  }
 },
 "nbformat": 4,
 "nbformat_minor": 5
}
