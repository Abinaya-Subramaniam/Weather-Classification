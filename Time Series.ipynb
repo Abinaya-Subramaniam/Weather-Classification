{
 "cells": [
  {
   "cell_type": "code",
   "execution_count": 4,
   "id": "f2a563e0",
   "metadata": {},
   "outputs": [],
   "source": [
    "import pandas as pd\n",
    "import numpy as np\n",
    "from sklearn.model_selection import TimeSeriesSplit, cross_val_score\n",
    "from sklearn.metrics import mean_squared_error\n",
    "from statsmodels.tsa.statespace.sarimax import SARIMAX\n",
    "import warnings\n",
    "warnings.filterwarnings(\"ignore\")"
   ]
  },
  {
   "cell_type": "code",
   "execution_count": 5,
   "id": "a504f463",
   "metadata": {},
   "outputs": [],
   "source": [
    "historical_weather = pd.read_csv('historical_weather.csv')"
   ]
  },
  {
   "cell_type": "code",
   "execution_count": 6,
   "id": "21733e77",
   "metadata": {},
   "outputs": [],
   "source": [
    "submission_key = pd.read_csv('submission_key.csv')\n",
    "sample_submission = pd.read_csv('sample_submission.csv')"
   ]
  },
  {
   "cell_type": "code",
   "execution_count": 7,
   "id": "bab69fc2",
   "metadata": {},
   "outputs": [],
   "source": [
    "historical_weather['date'] = pd.to_datetime(historical_weather['date'])\n",
    "submission_key['date'] = pd.to_datetime(submission_key['date'])"
   ]
  },
  {
   "cell_type": "code",
   "execution_count": 8,
   "id": "3956e5c8",
   "metadata": {},
   "outputs": [],
   "source": [
    "def train_sarima(city_data):\n",
    "    # Train SARIMA model\n",
    "    model = SARIMAX(city_data['avg_temp_c'], order=(1, 0, 0), seasonal_order=(1, 1, 0, 12))\n",
    "    model_fit = model.fit(disp=False)\n",
    "    \n",
    "    # Forecast\n",
    "    forecast = model_fit.forecast(steps=7)\n",
    "    \n",
    "    return forecast\n"
   ]
  },
  {
   "cell_type": "code",
   "execution_count": 9,
   "id": "d696ae86",
   "metadata": {},
   "outputs": [],
   "source": [
    "predictions = pd.DataFrame(columns=['submission_ID', 'avg_temp_c'])"
   ]
  },
  {
   "cell_type": "code",
   "execution_count": 10,
   "id": "4b95ff3e",
   "metadata": {},
   "outputs": [],
   "source": [
    "for city_id in submission_key['city_id'].unique():\n",
    "    city_data = historical_weather[historical_weather['city_id'] == city_id].copy()\n",
    "    \n",
    "    # Train SARIMA model and predict\n",
    "    forecast = train_sarima(city_data)\n",
    "    \n",
    "    # Get submission IDs and append predictions to DataFrame\n",
    "    city_submission_ids = submission_key[submission_key['city_id'] == city_id]['submission_ID'].values\n",
    "    city_predictions = pd.DataFrame({'submission_ID': city_submission_ids, 'avg_temp_c': forecast})\n",
    "    \n",
    "    # Append city_predictions to predictions DataFrame\n",
    "    predictions = pd.concat([predictions, city_predictions], ignore_index=True)"
   ]
  },
  {
   "cell_type": "code",
   "execution_count": 11,
   "id": "00dba5ac",
   "metadata": {},
   "outputs": [],
   "source": [
    "predictions['avg_temp_c'] = predictions['avg_temp_c'].round(1)"
   ]
  },
  {
   "cell_type": "code",
   "execution_count": 12,
   "id": "8047a4dd",
   "metadata": {},
   "outputs": [],
   "source": [
    "final_submission = sample_submission.merge(predictions, on='submission_ID')"
   ]
  },
  {
   "cell_type": "code",
   "execution_count": 13,
   "id": "a9499f0a",
   "metadata": {},
   "outputs": [
    {
     "name": "stdout",
     "output_type": "stream",
     "text": [
      "Prediction complete. Output saved to 'final_submission.csv'\n"
     ]
    }
   ],
   "source": [
    "final_submission.to_csv('final_submission.csv', index=False)\n",
    "\n",
    "print(\"Prediction complete. Output saved to 'final_submission.csv'\")"
   ]
  },
  {
   "cell_type": "code",
   "execution_count": null,
   "id": "e7bca305",
   "metadata": {},
   "outputs": [],
   "source": []
  },
  {
   "cell_type": "code",
   "execution_count": null,
   "id": "d3bbf9d7",
   "metadata": {},
   "outputs": [],
   "source": []
  },
  {
   "cell_type": "code",
   "execution_count": null,
   "id": "9f57246d",
   "metadata": {},
   "outputs": [],
   "source": []
  },
  {
   "cell_type": "code",
   "execution_count": null,
   "id": "1d2cf6f7",
   "metadata": {},
   "outputs": [],
   "source": []
  },
  {
   "cell_type": "code",
   "execution_count": null,
   "id": "34d6fd75",
   "metadata": {},
   "outputs": [],
   "source": []
  },
  {
   "cell_type": "code",
   "execution_count": null,
   "id": "526d8827",
   "metadata": {},
   "outputs": [],
   "source": []
  },
  {
   "cell_type": "code",
   "execution_count": null,
   "id": "962a0750",
   "metadata": {},
   "outputs": [],
   "source": []
  },
  {
   "cell_type": "code",
   "execution_count": null,
   "id": "dd2a6073",
   "metadata": {},
   "outputs": [],
   "source": []
  },
  {
   "cell_type": "code",
   "execution_count": null,
   "id": "3ea0825b",
   "metadata": {},
   "outputs": [],
   "source": []
  },
  {
   "cell_type": "code",
   "execution_count": null,
   "id": "5e0a6448",
   "metadata": {},
   "outputs": [],
   "source": []
  },
  {
   "cell_type": "code",
   "execution_count": null,
   "id": "0dcc0ce5",
   "metadata": {},
   "outputs": [],
   "source": []
  },
  {
   "cell_type": "code",
   "execution_count": null,
   "id": "93fcf65f",
   "metadata": {},
   "outputs": [],
   "source": []
  }
 ],
 "metadata": {
  "kernelspec": {
   "display_name": "Python 3 (ipykernel)",
   "language": "python",
   "name": "python3"
  },
  "language_info": {
   "codemirror_mode": {
    "name": "ipython",
    "version": 3
   },
   "file_extension": ".py",
   "mimetype": "text/x-python",
   "name": "python",
   "nbconvert_exporter": "python",
   "pygments_lexer": "ipython3",
   "version": "3.10.9"
  }
 },
 "nbformat": 4,
 "nbformat_minor": 5
}
